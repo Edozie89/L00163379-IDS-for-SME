{
  "cells": [
    {
      "cell_type": "markdown",
      "metadata": {
        "id": "view-in-github",
        "colab_type": "text"
      },
      "source": [
        "<a href=\"https://colab.research.google.com/github/chiedozieokoro/L00163379-IDS-for-SME/blob/main/IDS_for_SMEs_CICIDS2017.ipynb\" target=\"_parent\"><img src=\"https://colab.research.google.com/assets/colab-badge.svg\" alt=\"Open In Colab\"/></a>"
      ]
    },
    {
      "cell_type": "code",
      "execution_count": null,
      "metadata": {
        "id": "I1XRTeDHPm-k"
      },
      "outputs": [],
      "source": [
        "import pandas as pd\n",
        "import numpy as np\n",
        "import os "
      ]
    },
    {
      "cell_type": "code",
      "execution_count": null,
      "metadata": {
        "colab": {
          "base_uri": "https://localhost:8080/"
        },
        "id": "mvwxhnhkS9L1",
        "outputId": "62c4e806-9932-4ab5-a9b9-4eed512294b6"
      },
      "outputs": [
        {
          "output_type": "stream",
          "name": "stdout",
          "text": [
            "Mounted at /content/drive\n"
          ]
        }
      ],
      "source": [
        "from google.colab import drive\n",
        "drive.mount('/content/drive')"
      ]
    },
    {
      "cell_type": "code",
      "execution_count": null,
      "metadata": {
        "id": "pzb4iTHrTt0r",
        "colab": {
          "base_uri": "https://localhost:8080/"
        },
        "outputId": "5b1dae67-27a9-4b66-f63d-440ad170a70b"
      },
      "outputs": [
        {
          "output_type": "stream",
          "name": "stdout",
          "text": [
            "/content/drive/MyDrive/TED\n"
          ]
        }
      ],
      "source": [
        "#!unzip /content/drive/MyDrive/MachineLearningCSV.zip > /content/drive/MyDrive/MachineLearningCSV\n",
        "%cd /content/drive/MyDrive/TED"
      ]
    },
    {
      "cell_type": "code",
      "execution_count": null,
      "metadata": {
        "colab": {
          "base_uri": "https://localhost:8080/"
        },
        "id": "23sbVekFUOi4",
        "outputId": "3289afbb-3d94-4cbe-d133-f5081cbc6154"
      },
      "outputs": [
        {
          "output_type": "stream",
          "name": "stdout",
          "text": [
            "['Tuesday-WorkingHours.pcap_ISCX.csv']\n"
          ]
        }
      ],
      "source": [
        "#print(os.listdir('C:\\\\Users\\\\zack\\\\Downloads\\\\MachineLearningCSV'))\n",
        "print(os.listdir('/content/drive/MyDrive/TED'))"
      ]
    },
    {
      "cell_type": "code",
      "execution_count": null,
      "metadata": {
        "colab": {
          "base_uri": "https://localhost:8080/"
        },
        "id": "eFuNSUS2S99b",
        "outputId": "b3780438-b2c5-4219-e740-0fabf6e6309e"
      },
      "outputs": [
        {
          "output_type": "stream",
          "name": "stdout",
          "text": [
            "Read in Tuesday-WorkingHours.pcap_ISCX.csv\n",
            "Finisehd reading in 445909 entires\n"
          ]
        }
      ],
      "source": [
        "#read in all the csv files\n",
        "\n",
        "base_dir = \"/content/drive/MyDrive/TED\"\n",
        "\n",
        "csv_files = os.listdir(base_dir)\n",
        "\n",
        "df = pd.DataFrame()\n",
        "\n",
        "for file in csv_files:\n",
        "  print(\"Read in {}\".format(file))\n",
        "  df = df.append((pd.read_csv(os.path.join(base_dir, file))))\n",
        "\n",
        "print(\"Finisehd reading in {} entires\".format(str(df.shape[0])))"
      ]
    },
    {
      "cell_type": "code",
      "execution_count": null,
      "metadata": {
        "id": "RxYkhjN2-SDu"
      },
      "outputs": [],
      "source": [
        "df=pd.read_csv(\"/content/drive/MyDrive/TED/Tuesday-WorkingHours.pcap_ISCX.csv\")"
      ]
    },
    {
      "cell_type": "code",
      "execution_count": null,
      "metadata": {
        "colab": {
          "base_uri": "https://localhost:8080/"
        },
        "id": "ZJKelorsWRLJ",
        "outputId": "1743b454-344d-4070-df4c-08aa39622514"
      },
      "outputs": [
        {
          "data": {
            "text/plain": [
              "Index([' Destination Port', ' Flow Duration', ' Total Fwd Packets',\n",
              "       ' Total Backward Packets', 'Total Length of Fwd Packets',\n",
              "       ' Total Length of Bwd Packets', ' Fwd Packet Length Max',\n",
              "       ' Fwd Packet Length Min', ' Fwd Packet Length Mean',\n",
              "       ' Fwd Packet Length Std', 'Bwd Packet Length Max',\n",
              "       ' Bwd Packet Length Min', ' Bwd Packet Length Mean',\n",
              "       ' Bwd Packet Length Std', 'Flow Bytes/s', ' Flow Packets/s',\n",
              "       ' Flow IAT Mean', ' Flow IAT Std', ' Flow IAT Max', ' Flow IAT Min',\n",
              "       'Fwd IAT Total', ' Fwd IAT Mean', ' Fwd IAT Std', ' Fwd IAT Max',\n",
              "       ' Fwd IAT Min', 'Bwd IAT Total', ' Bwd IAT Mean', ' Bwd IAT Std',\n",
              "       ' Bwd IAT Max', ' Bwd IAT Min', 'Fwd PSH Flags', ' Bwd PSH Flags',\n",
              "       ' Fwd URG Flags', ' Bwd URG Flags', ' Fwd Header Length',\n",
              "       ' Bwd Header Length', 'Fwd Packets/s', ' Bwd Packets/s',\n",
              "       ' Min Packet Length', ' Max Packet Length', ' Packet Length Mean',\n",
              "       ' Packet Length Std', ' Packet Length Variance', 'FIN Flag Count',\n",
              "       ' SYN Flag Count', ' RST Flag Count', ' PSH Flag Count',\n",
              "       ' ACK Flag Count', ' URG Flag Count', ' CWE Flag Count',\n",
              "       ' ECE Flag Count', ' Down/Up Ratio', ' Average Packet Size',\n",
              "       ' Avg Fwd Segment Size', ' Avg Bwd Segment Size',\n",
              "       ' Fwd Header Length.1', 'Fwd Avg Bytes/Bulk', ' Fwd Avg Packets/Bulk',\n",
              "       ' Fwd Avg Bulk Rate', ' Bwd Avg Bytes/Bulk', ' Bwd Avg Packets/Bulk',\n",
              "       'Bwd Avg Bulk Rate', 'Subflow Fwd Packets', ' Subflow Fwd Bytes',\n",
              "       ' Subflow Bwd Packets', ' Subflow Bwd Bytes', 'Init_Win_bytes_forward',\n",
              "       ' Init_Win_bytes_backward', ' act_data_pkt_fwd',\n",
              "       ' min_seg_size_forward', 'Active Mean', ' Active Std', ' Active Max',\n",
              "       ' Active Min', 'Idle Mean', ' Idle Std', ' Idle Max', ' Idle Min',\n",
              "       ' Label'],\n",
              "      dtype='object')"
            ]
          },
          "execution_count": 33,
          "metadata": {},
          "output_type": "execute_result"
        }
      ],
      "source": [
        "df.columns"
      ]
    },
    {
      "cell_type": "code",
      "execution_count": null,
      "metadata": {
        "colab": {
          "base_uri": "https://localhost:8080/"
        },
        "id": "1OSpYy9cUqqK",
        "outputId": "d9057ed9-0a5c-474d-c21d-10a3cab1ca0a"
      },
      "outputs": [
        {
          "output_type": "stream",
          "name": "stdout",
          "text": [
            "Looking in indexes: https://pypi.org/simple, https://us-python.pkg.dev/colab-wheels/public/simple/\n",
            "Requirement already satisfied: hyperopt in /usr/local/lib/python3.8/dist-packages (0.1.2)\n",
            "Requirement already satisfied: six in /usr/local/lib/python3.8/dist-packages (from hyperopt) (1.15.0)\n",
            "Requirement already satisfied: tqdm in /usr/local/lib/python3.8/dist-packages (from hyperopt) (4.64.1)\n",
            "Requirement already satisfied: numpy in /usr/local/lib/python3.8/dist-packages (from hyperopt) (1.21.6)\n",
            "Requirement already satisfied: pymongo in /usr/local/lib/python3.8/dist-packages (from hyperopt) (4.3.3)\n",
            "Requirement already satisfied: future in /usr/local/lib/python3.8/dist-packages (from hyperopt) (0.16.0)\n",
            "Requirement already satisfied: scipy in /usr/local/lib/python3.8/dist-packages (from hyperopt) (1.7.3)\n",
            "Requirement already satisfied: networkx in /usr/local/lib/python3.8/dist-packages (from hyperopt) (2.8.8)\n",
            "Requirement already satisfied: dnspython<3.0.0,>=1.16.0 in /usr/local/lib/python3.8/dist-packages (from pymongo->hyperopt) (2.2.1)\n",
            "Looking in indexes: https://pypi.org/simple, https://us-python.pkg.dev/colab-wheels/public/simple/\n",
            "Collecting unidecode\n",
            "  Downloading Unidecode-1.3.6-py3-none-any.whl (235 kB)\n",
            "\u001b[2K     \u001b[90m━━━━━━━━━━━━━━━━━━━━━━━━━━━━━━━━━━━━━━━\u001b[0m \u001b[32m235.9/235.9 KB\u001b[0m \u001b[31m9.2 MB/s\u001b[0m eta \u001b[36m0:00:00\u001b[0m\n",
            "\u001b[?25hInstalling collected packages: unidecode\n",
            "Successfully installed unidecode-1.3.6\n"
          ]
        }
      ],
      "source": [
        "# install hyperopts for parameter optimization\n",
        "!pip install hyperopt\n",
        "!pip install unidecode"
      ]
    },
    {
      "cell_type": "code",
      "execution_count": null,
      "metadata": {
        "id": "IUNzPadaTbIL"
      },
      "outputs": [],
      "source": [
        "from unidecode import unidecode\n",
        "df[\" Label\"] = df[\" Label\"].apply(unidecode)"
      ]
    },
    {
      "cell_type": "code",
      "execution_count": null,
      "metadata": {
        "colab": {
          "base_uri": "https://localhost:8080/"
        },
        "id": "c5mdPQERUwR6",
        "outputId": "e1cd0344-6b48-4b2b-c15c-21c41a036390"
      },
      "outputs": [
        {
          "output_type": "stream",
          "name": "stdout",
          "text": [
            "<class 'pandas.core.frame.DataFrame'>\n",
            "RangeIndex: 445909 entries, 0 to 445908\n",
            "Data columns (total 79 columns):\n",
            " #   Column                        Non-Null Count   Dtype  \n",
            "---  ------                        --------------   -----  \n",
            " 0    Destination Port             445909 non-null  int64  \n",
            " 1    Flow Duration                445909 non-null  int64  \n",
            " 2    Total Fwd Packets            445909 non-null  int64  \n",
            " 3    Total Backward Packets       445909 non-null  int64  \n",
            " 4   Total Length of Fwd Packets   445909 non-null  int64  \n",
            " 5    Total Length of Bwd Packets  445909 non-null  int64  \n",
            " 6    Fwd Packet Length Max        445909 non-null  int64  \n",
            " 7    Fwd Packet Length Min        445909 non-null  int64  \n",
            " 8    Fwd Packet Length Mean       445909 non-null  float64\n",
            " 9    Fwd Packet Length Std        445909 non-null  float64\n",
            " 10  Bwd Packet Length Max         445909 non-null  int64  \n",
            " 11   Bwd Packet Length Min        445909 non-null  int64  \n",
            " 12   Bwd Packet Length Mean       445909 non-null  float64\n",
            " 13   Bwd Packet Length Std        445909 non-null  float64\n",
            " 14  Flow Bytes/s                  445708 non-null  float64\n",
            " 15   Flow Packets/s               445909 non-null  float64\n",
            " 16   Flow IAT Mean                445909 non-null  float64\n",
            " 17   Flow IAT Std                 445909 non-null  float64\n",
            " 18   Flow IAT Max                 445909 non-null  int64  \n",
            " 19   Flow IAT Min                 445909 non-null  int64  \n",
            " 20  Fwd IAT Total                 445909 non-null  int64  \n",
            " 21   Fwd IAT Mean                 445909 non-null  float64\n",
            " 22   Fwd IAT Std                  445909 non-null  float64\n",
            " 23   Fwd IAT Max                  445909 non-null  int64  \n",
            " 24   Fwd IAT Min                  445909 non-null  int64  \n",
            " 25  Bwd IAT Total                 445909 non-null  int64  \n",
            " 26   Bwd IAT Mean                 445909 non-null  float64\n",
            " 27   Bwd IAT Std                  445909 non-null  float64\n",
            " 28   Bwd IAT Max                  445909 non-null  int64  \n",
            " 29   Bwd IAT Min                  445909 non-null  int64  \n",
            " 30  Fwd PSH Flags                 445909 non-null  int64  \n",
            " 31   Bwd PSH Flags                445909 non-null  int64  \n",
            " 32   Fwd URG Flags                445909 non-null  int64  \n",
            " 33   Bwd URG Flags                445909 non-null  int64  \n",
            " 34   Fwd Header Length            445909 non-null  int64  \n",
            " 35   Bwd Header Length            445909 non-null  int64  \n",
            " 36  Fwd Packets/s                 445909 non-null  float64\n",
            " 37   Bwd Packets/s                445909 non-null  float64\n",
            " 38   Min Packet Length            445909 non-null  int64  \n",
            " 39   Max Packet Length            445909 non-null  int64  \n",
            " 40   Packet Length Mean           445909 non-null  float64\n",
            " 41   Packet Length Std            445909 non-null  float64\n",
            " 42   Packet Length Variance       445909 non-null  float64\n",
            " 43  FIN Flag Count                445909 non-null  int64  \n",
            " 44   SYN Flag Count               445909 non-null  int64  \n",
            " 45   RST Flag Count               445909 non-null  int64  \n",
            " 46   PSH Flag Count               445909 non-null  int64  \n",
            " 47   ACK Flag Count               445909 non-null  int64  \n",
            " 48   URG Flag Count               445909 non-null  int64  \n",
            " 49   CWE Flag Count               445909 non-null  int64  \n",
            " 50   ECE Flag Count               445909 non-null  int64  \n",
            " 51   Down/Up Ratio                445909 non-null  int64  \n",
            " 52   Average Packet Size          445909 non-null  float64\n",
            " 53   Avg Fwd Segment Size         445909 non-null  float64\n",
            " 54   Avg Bwd Segment Size         445909 non-null  float64\n",
            " 55   Fwd Header Length.1          445909 non-null  int64  \n",
            " 56  Fwd Avg Bytes/Bulk            445909 non-null  int64  \n",
            " 57   Fwd Avg Packets/Bulk         445909 non-null  int64  \n",
            " 58   Fwd Avg Bulk Rate            445909 non-null  int64  \n",
            " 59   Bwd Avg Bytes/Bulk           445909 non-null  int64  \n",
            " 60   Bwd Avg Packets/Bulk         445909 non-null  int64  \n",
            " 61  Bwd Avg Bulk Rate             445909 non-null  int64  \n",
            " 62  Subflow Fwd Packets           445909 non-null  int64  \n",
            " 63   Subflow Fwd Bytes            445909 non-null  int64  \n",
            " 64   Subflow Bwd Packets          445909 non-null  int64  \n",
            " 65   Subflow Bwd Bytes            445909 non-null  int64  \n",
            " 66  Init_Win_bytes_forward        445909 non-null  int64  \n",
            " 67   Init_Win_bytes_backward      445909 non-null  int64  \n",
            " 68   act_data_pkt_fwd             445909 non-null  int64  \n",
            " 69   min_seg_size_forward         445909 non-null  int64  \n",
            " 70  Active Mean                   445909 non-null  float64\n",
            " 71   Active Std                   445909 non-null  float64\n",
            " 72   Active Max                   445909 non-null  int64  \n",
            " 73   Active Min                   445909 non-null  int64  \n",
            " 74  Idle Mean                     445909 non-null  float64\n",
            " 75   Idle Std                     445909 non-null  float64\n",
            " 76   Idle Max                     445909 non-null  int64  \n",
            " 77   Idle Min                     445909 non-null  int64  \n",
            " 78   Label                        445909 non-null  object \n",
            "dtypes: float64(24), int64(54), object(1)\n",
            "memory usage: 268.8+ MB\n"
          ]
        }
      ],
      "source": [
        "df.info()"
      ]
    },
    {
      "cell_type": "code",
      "execution_count": null,
      "metadata": {
        "colab": {
          "base_uri": "https://localhost:8080/",
          "height": 314
        },
        "id": "oNen_RGYUz0S",
        "outputId": "dbd56775-6a31-4998-c005-ec1cd8af1a49"
      },
      "outputs": [
        {
          "output_type": "execute_result",
          "data": {
            "text/plain": [
              "    Destination Port   Flow Duration   Total Fwd Packets  \\\n",
              "0                 88             640                   7   \n",
              "1                 88             900                   9   \n",
              "2                 88            1205                   7   \n",
              "3                 88             511                   7   \n",
              "4                 88             773                   9   \n",
              "\n",
              "    Total Backward Packets  Total Length of Fwd Packets  \\\n",
              "0                        4                          440   \n",
              "1                        4                          600   \n",
              "2                        4                         2776   \n",
              "3                        4                          452   \n",
              "4                        4                          612   \n",
              "\n",
              "    Total Length of Bwd Packets   Fwd Packet Length Max  \\\n",
              "0                           358                     220   \n",
              "1                          2944                     300   \n",
              "2                          2830                    1388   \n",
              "3                           370                     226   \n",
              "4                          2944                     306   \n",
              "\n",
              "    Fwd Packet Length Min   Fwd Packet Length Mean   Fwd Packet Length Std  \\\n",
              "0                       0                62.857143              107.349008   \n",
              "1                       0                66.666667              132.287566   \n",
              "2                       0               396.571429              677.274651   \n",
              "3                       0                64.571429              110.276708   \n",
              "4                       0                68.000000              134.933317   \n",
              "\n",
              "   ...   min_seg_size_forward  Active Mean   Active Std   Active Max  \\\n",
              "0  ...                     20          0.0          0.0            0   \n",
              "1  ...                     20          0.0          0.0            0   \n",
              "2  ...                     20          0.0          0.0            0   \n",
              "3  ...                     20          0.0          0.0            0   \n",
              "4  ...                     20          0.0          0.0            0   \n",
              "\n",
              "    Active Min  Idle Mean   Idle Std   Idle Max   Idle Min   Label  \n",
              "0            0        0.0        0.0          0          0  BENIGN  \n",
              "1            0        0.0        0.0          0          0  BENIGN  \n",
              "2            0        0.0        0.0          0          0  BENIGN  \n",
              "3            0        0.0        0.0          0          0  BENIGN  \n",
              "4            0        0.0        0.0          0          0  BENIGN  \n",
              "\n",
              "[5 rows x 79 columns]"
            ],
            "text/html": [
              "\n",
              "  <div id=\"df-be1a4eef-7500-4ab4-a1f4-57eb391ee53f\">\n",
              "    <div class=\"colab-df-container\">\n",
              "      <div>\n",
              "<style scoped>\n",
              "    .dataframe tbody tr th:only-of-type {\n",
              "        vertical-align: middle;\n",
              "    }\n",
              "\n",
              "    .dataframe tbody tr th {\n",
              "        vertical-align: top;\n",
              "    }\n",
              "\n",
              "    .dataframe thead th {\n",
              "        text-align: right;\n",
              "    }\n",
              "</style>\n",
              "<table border=\"1\" class=\"dataframe\">\n",
              "  <thead>\n",
              "    <tr style=\"text-align: right;\">\n",
              "      <th></th>\n",
              "      <th>Destination Port</th>\n",
              "      <th>Flow Duration</th>\n",
              "      <th>Total Fwd Packets</th>\n",
              "      <th>Total Backward Packets</th>\n",
              "      <th>Total Length of Fwd Packets</th>\n",
              "      <th>Total Length of Bwd Packets</th>\n",
              "      <th>Fwd Packet Length Max</th>\n",
              "      <th>Fwd Packet Length Min</th>\n",
              "      <th>Fwd Packet Length Mean</th>\n",
              "      <th>Fwd Packet Length Std</th>\n",
              "      <th>...</th>\n",
              "      <th>min_seg_size_forward</th>\n",
              "      <th>Active Mean</th>\n",
              "      <th>Active Std</th>\n",
              "      <th>Active Max</th>\n",
              "      <th>Active Min</th>\n",
              "      <th>Idle Mean</th>\n",
              "      <th>Idle Std</th>\n",
              "      <th>Idle Max</th>\n",
              "      <th>Idle Min</th>\n",
              "      <th>Label</th>\n",
              "    </tr>\n",
              "  </thead>\n",
              "  <tbody>\n",
              "    <tr>\n",
              "      <th>0</th>\n",
              "      <td>88</td>\n",
              "      <td>640</td>\n",
              "      <td>7</td>\n",
              "      <td>4</td>\n",
              "      <td>440</td>\n",
              "      <td>358</td>\n",
              "      <td>220</td>\n",
              "      <td>0</td>\n",
              "      <td>62.857143</td>\n",
              "      <td>107.349008</td>\n",
              "      <td>...</td>\n",
              "      <td>20</td>\n",
              "      <td>0.0</td>\n",
              "      <td>0.0</td>\n",
              "      <td>0</td>\n",
              "      <td>0</td>\n",
              "      <td>0.0</td>\n",
              "      <td>0.0</td>\n",
              "      <td>0</td>\n",
              "      <td>0</td>\n",
              "      <td>BENIGN</td>\n",
              "    </tr>\n",
              "    <tr>\n",
              "      <th>1</th>\n",
              "      <td>88</td>\n",
              "      <td>900</td>\n",
              "      <td>9</td>\n",
              "      <td>4</td>\n",
              "      <td>600</td>\n",
              "      <td>2944</td>\n",
              "      <td>300</td>\n",
              "      <td>0</td>\n",
              "      <td>66.666667</td>\n",
              "      <td>132.287566</td>\n",
              "      <td>...</td>\n",
              "      <td>20</td>\n",
              "      <td>0.0</td>\n",
              "      <td>0.0</td>\n",
              "      <td>0</td>\n",
              "      <td>0</td>\n",
              "      <td>0.0</td>\n",
              "      <td>0.0</td>\n",
              "      <td>0</td>\n",
              "      <td>0</td>\n",
              "      <td>BENIGN</td>\n",
              "    </tr>\n",
              "    <tr>\n",
              "      <th>2</th>\n",
              "      <td>88</td>\n",
              "      <td>1205</td>\n",
              "      <td>7</td>\n",
              "      <td>4</td>\n",
              "      <td>2776</td>\n",
              "      <td>2830</td>\n",
              "      <td>1388</td>\n",
              "      <td>0</td>\n",
              "      <td>396.571429</td>\n",
              "      <td>677.274651</td>\n",
              "      <td>...</td>\n",
              "      <td>20</td>\n",
              "      <td>0.0</td>\n",
              "      <td>0.0</td>\n",
              "      <td>0</td>\n",
              "      <td>0</td>\n",
              "      <td>0.0</td>\n",
              "      <td>0.0</td>\n",
              "      <td>0</td>\n",
              "      <td>0</td>\n",
              "      <td>BENIGN</td>\n",
              "    </tr>\n",
              "    <tr>\n",
              "      <th>3</th>\n",
              "      <td>88</td>\n",
              "      <td>511</td>\n",
              "      <td>7</td>\n",
              "      <td>4</td>\n",
              "      <td>452</td>\n",
              "      <td>370</td>\n",
              "      <td>226</td>\n",
              "      <td>0</td>\n",
              "      <td>64.571429</td>\n",
              "      <td>110.276708</td>\n",
              "      <td>...</td>\n",
              "      <td>20</td>\n",
              "      <td>0.0</td>\n",
              "      <td>0.0</td>\n",
              "      <td>0</td>\n",
              "      <td>0</td>\n",
              "      <td>0.0</td>\n",
              "      <td>0.0</td>\n",
              "      <td>0</td>\n",
              "      <td>0</td>\n",
              "      <td>BENIGN</td>\n",
              "    </tr>\n",
              "    <tr>\n",
              "      <th>4</th>\n",
              "      <td>88</td>\n",
              "      <td>773</td>\n",
              "      <td>9</td>\n",
              "      <td>4</td>\n",
              "      <td>612</td>\n",
              "      <td>2944</td>\n",
              "      <td>306</td>\n",
              "      <td>0</td>\n",
              "      <td>68.000000</td>\n",
              "      <td>134.933317</td>\n",
              "      <td>...</td>\n",
              "      <td>20</td>\n",
              "      <td>0.0</td>\n",
              "      <td>0.0</td>\n",
              "      <td>0</td>\n",
              "      <td>0</td>\n",
              "      <td>0.0</td>\n",
              "      <td>0.0</td>\n",
              "      <td>0</td>\n",
              "      <td>0</td>\n",
              "      <td>BENIGN</td>\n",
              "    </tr>\n",
              "  </tbody>\n",
              "</table>\n",
              "<p>5 rows × 79 columns</p>\n",
              "</div>\n",
              "      <button class=\"colab-df-convert\" onclick=\"convertToInteractive('df-be1a4eef-7500-4ab4-a1f4-57eb391ee53f')\"\n",
              "              title=\"Convert this dataframe to an interactive table.\"\n",
              "              style=\"display:none;\">\n",
              "        \n",
              "  <svg xmlns=\"http://www.w3.org/2000/svg\" height=\"24px\"viewBox=\"0 0 24 24\"\n",
              "       width=\"24px\">\n",
              "    <path d=\"M0 0h24v24H0V0z\" fill=\"none\"/>\n",
              "    <path d=\"M18.56 5.44l.94 2.06.94-2.06 2.06-.94-2.06-.94-.94-2.06-.94 2.06-2.06.94zm-11 1L8.5 8.5l.94-2.06 2.06-.94-2.06-.94L8.5 2.5l-.94 2.06-2.06.94zm10 10l.94 2.06.94-2.06 2.06-.94-2.06-.94-.94-2.06-.94 2.06-2.06.94z\"/><path d=\"M17.41 7.96l-1.37-1.37c-.4-.4-.92-.59-1.43-.59-.52 0-1.04.2-1.43.59L10.3 9.45l-7.72 7.72c-.78.78-.78 2.05 0 2.83L4 21.41c.39.39.9.59 1.41.59.51 0 1.02-.2 1.41-.59l7.78-7.78 2.81-2.81c.8-.78.8-2.07 0-2.86zM5.41 20L4 18.59l7.72-7.72 1.47 1.35L5.41 20z\"/>\n",
              "  </svg>\n",
              "      </button>\n",
              "      \n",
              "  <style>\n",
              "    .colab-df-container {\n",
              "      display:flex;\n",
              "      flex-wrap:wrap;\n",
              "      gap: 12px;\n",
              "    }\n",
              "\n",
              "    .colab-df-convert {\n",
              "      background-color: #E8F0FE;\n",
              "      border: none;\n",
              "      border-radius: 50%;\n",
              "      cursor: pointer;\n",
              "      display: none;\n",
              "      fill: #1967D2;\n",
              "      height: 32px;\n",
              "      padding: 0 0 0 0;\n",
              "      width: 32px;\n",
              "    }\n",
              "\n",
              "    .colab-df-convert:hover {\n",
              "      background-color: #E2EBFA;\n",
              "      box-shadow: 0px 1px 2px rgba(60, 64, 67, 0.3), 0px 1px 3px 1px rgba(60, 64, 67, 0.15);\n",
              "      fill: #174EA6;\n",
              "    }\n",
              "\n",
              "    [theme=dark] .colab-df-convert {\n",
              "      background-color: #3B4455;\n",
              "      fill: #D2E3FC;\n",
              "    }\n",
              "\n",
              "    [theme=dark] .colab-df-convert:hover {\n",
              "      background-color: #434B5C;\n",
              "      box-shadow: 0px 1px 3px 1px rgba(0, 0, 0, 0.15);\n",
              "      filter: drop-shadow(0px 1px 2px rgba(0, 0, 0, 0.3));\n",
              "      fill: #FFFFFF;\n",
              "    }\n",
              "  </style>\n",
              "\n",
              "      <script>\n",
              "        const buttonEl =\n",
              "          document.querySelector('#df-be1a4eef-7500-4ab4-a1f4-57eb391ee53f button.colab-df-convert');\n",
              "        buttonEl.style.display =\n",
              "          google.colab.kernel.accessAllowed ? 'block' : 'none';\n",
              "\n",
              "        async function convertToInteractive(key) {\n",
              "          const element = document.querySelector('#df-be1a4eef-7500-4ab4-a1f4-57eb391ee53f');\n",
              "          const dataTable =\n",
              "            await google.colab.kernel.invokeFunction('convertToInteractive',\n",
              "                                                     [key], {});\n",
              "          if (!dataTable) return;\n",
              "\n",
              "          const docLinkHtml = 'Like what you see? Visit the ' +\n",
              "            '<a target=\"_blank\" href=https://colab.research.google.com/notebooks/data_table.ipynb>data table notebook</a>'\n",
              "            + ' to learn more about interactive tables.';\n",
              "          element.innerHTML = '';\n",
              "          dataTable['output_type'] = 'display_data';\n",
              "          await google.colab.output.renderOutput(dataTable, element);\n",
              "          const docLink = document.createElement('div');\n",
              "          docLink.innerHTML = docLinkHtml;\n",
              "          element.appendChild(docLink);\n",
              "        }\n",
              "      </script>\n",
              "    </div>\n",
              "  </div>\n",
              "  "
            ]
          },
          "metadata": {},
          "execution_count": 12
        }
      ],
      "source": [
        "df.head()"
      ]
    },
    {
      "cell_type": "code",
      "execution_count": null,
      "metadata": {
        "colab": {
          "base_uri": "https://localhost:8080/"
        },
        "id": "X7p2gwfIU2iJ",
        "outputId": "54351af2-f9ea-4ea5-ba5b-ea56cacb0fa9"
      },
      "outputs": [
        {
          "output_type": "execute_result",
          "data": {
            "text/plain": [
              "BENIGN         432074\n",
              "FTP-Patator      7938\n",
              "SSH-Patator      5897\n",
              "Name:  Label, dtype: int64"
            ]
          },
          "metadata": {},
          "execution_count": 13
        }
      ],
      "source": [
        "df[\" Label\"].value_counts()"
      ]
    },
    {
      "cell_type": "code",
      "execution_count": null,
      "metadata": {
        "colab": {
          "base_uri": "https://localhost:8080/"
        },
        "id": "fighyaj9U5As",
        "outputId": "fdc67981-22ba-4d05-8dca-6dc5487e6e1f"
      },
      "outputs": [
        {
          "output_type": "execute_result",
          "data": {
            "text/plain": [
              "BENIGN         0.968973\n",
              "FTP-Patator    0.017802\n",
              "SSH-Patator    0.013225\n",
              "Name:  Label, dtype: float64"
            ]
          },
          "metadata": {},
          "execution_count": 14
        }
      ],
      "source": [
        "df[\" Label\"].value_counts(normalize=True)"
      ]
    },
    {
      "cell_type": "code",
      "execution_count": null,
      "metadata": {
        "colab": {
          "base_uri": "https://localhost:8080/",
          "height": 332
        },
        "id": "rju3JKqOYayk",
        "outputId": "a8377876-5604-4dff-f5ce-917c8f875fe6"
      },
      "outputs": [
        {
          "output_type": "execute_result",
          "data": {
            "text/plain": [
              "<matplotlib.axes._subplots.AxesSubplot at 0x7fcd55e92130>"
            ]
          },
          "metadata": {},
          "execution_count": 15
        },
        {
          "output_type": "display_data",
          "data": {
            "text/plain": [
              "<Figure size 432x288 with 1 Axes>"
            ],
            "image/png": "[encoded data removed]"
          },
          "metadata": {
            "needs_background": "light"
          }
        }
      ],
      "source": [
        "df[df[\" Label\"] != \"BENIGN\"][\" Label\"].value_counts().plot(kind='bar')"
      ]
    },
    {
      "cell_type": "code",
      "execution_count": null,
      "metadata": {
        "colab": {
          "base_uri": "https://localhost:8080/"
        },
        "id": "vrMMLdMpU-Im",
        "outputId": "7262eeb6-df0c-46f3-e3ce-47560093ebf1"
      },
      "outputs": [
        {
          "output_type": "execute_result",
          "data": {
            "text/plain": [
              "array(['BENIGN', 'FTP-Patator', 'SSH-Patator'], dtype=object)"
            ]
          },
          "metadata": {},
          "execution_count": 16
        }
      ],
      "source": [
        "np.unique(df[' Label'])"
      ]
    },
    {
      "cell_type": "code",
      "execution_count": null,
      "metadata": {
        "colab": {
          "base_uri": "https://localhost:8080/"
        },
        "id": "GQjDjVuWVCvP",
        "outputId": "cf52097e-0a43-47f9-9e60-a43abdd540b6"
      },
      "outputs": [
        {
          "output_type": "stream",
          "name": "stdout",
          "text": [
            " Destination Port              0\n",
            " Flow Duration                 0\n",
            " Total Fwd Packets             0\n",
            " Total Backward Packets        0\n",
            "Total Length of Fwd Packets    0\n",
            "                              ..\n",
            "Idle Mean                      0\n",
            " Idle Std                      0\n",
            " Idle Max                      0\n",
            " Idle Min                      0\n",
            " Label                         0\n",
            "Length: 79, dtype: int64\n"
          ]
        }
      ],
      "source": [
        "# Print the number of missing values in each column\n",
        "print(df.isnull().sum())"
      ]
    },
    {
      "cell_type": "code",
      "execution_count": null,
      "metadata": {
        "colab": {
          "base_uri": "https://localhost:8080/"
        },
        "id": "pf6YecEjWl8k",
        "outputId": "d198429b-ca58-4d8a-a879-d3c35bdd3f94"
      },
      "outputs": [
        {
          "output_type": "execute_result",
          "data": {
            "text/plain": [
              "(445909, 79)"
            ]
          },
          "metadata": {},
          "execution_count": 18
        }
      ],
      "source": [
        "# Print the shape of the filtered dataset\n",
        "df.shape"
      ]
    },
    {
      "cell_type": "code",
      "execution_count": null,
      "metadata": {
        "id": "u1FJod97W5cq"
      },
      "outputs": [],
      "source": [
        "# Remove rows with missing values\n",
        "df = df.dropna()"
      ]
    },
    {
      "cell_type": "code",
      "execution_count": null,
      "metadata": {
        "colab": {
          "base_uri": "https://localhost:8080/"
        },
        "id": "updFUtHMXAZL",
        "outputId": "687436a0-80fe-4369-ad86-d05dfee89e2f"
      },
      "outputs": [
        {
          "output_type": "execute_result",
          "data": {
            "text/plain": [
              "(445708, 79)"
            ]
          },
          "metadata": {},
          "execution_count": 20
        }
      ],
      "source": [
        "df.shape"
      ]
    },
    {
      "cell_type": "code",
      "execution_count": null,
      "metadata": {
        "id": "dXnRINl1XDqj"
      },
      "outputs": [],
      "source": [
        "#drop na values and reset index\n",
        "df_clean = df.dropna().reset_index()\n"
      ]
    },
    {
      "cell_type": "code",
      "execution_count": null,
      "metadata": {
        "id": "pzvwPlVjY6Ij"
      },
      "outputs": [],
      "source": [
        "from sklearn.preprocessing import  LabelEncoder"
      ]
    },
    {
      "cell_type": "code",
      "execution_count": null,
      "metadata": {
        "id": "4sNZQD3lYAFJ"
      },
      "outputs": [],
      "source": [
        "# label encoding\n",
        "labelencoder = LabelEncoder()\n",
        "df_clean[' Label'] = labelencoder.fit_transform(df_clean[' Label'])\n",
        "df_np = df_clean.to_numpy(dtype=\"float32\")"
      ]
    },
    {
      "cell_type": "code",
      "execution_count": null,
      "metadata": {
        "id": "e8OWQw6DZYBk"
      },
      "outputs": [],
      "source": []
    },
    {
      "cell_type": "code",
      "execution_count": null,
      "metadata": {
        "id": "40ZwJHgLZAhL"
      },
      "outputs": [],
      "source": [
        "#drop inf values\n",
        "df_np = df_np[~np.isinf(df_np).any(axis=1)]\n"
      ]
    },
    {
      "cell_type": "code",
      "execution_count": null,
      "metadata": {
        "id": "h3D4tBUGZOtE"
      },
      "outputs": [],
      "source": [
        "X = df.drop(' Label', axis=1)\n",
        "y = df[' Label']"
      ]
    },
    {
      "cell_type": "code",
      "execution_count": null,
      "metadata": {
        "id": "0rfMkGsElnPE"
      },
      "outputs": [],
      "source": [
        "from sklearn.model_selection import train_test_split\n",
        "from sklearn.preprocessing import StandardScaler\n",
        "from sklearn.svm import SVC\n",
        "from sklearn.ensemble import RandomForestClassifier\n",
        "from sklearn.metrics import accuracy_score, confusion_matrix"
      ]
    },
    {
      "cell_type": "code",
      "execution_count": null,
      "metadata": {
        "id": "VH3_gyFuljqM"
      },
      "outputs": [],
      "source": [
        "# Split the data into training and test sets\n",
        "X_train, X_test, y_train, y_test = train_test_split(X, y, test_size=0.2, random_state=42)"
      ]
    },
    {
      "cell_type": "code",
      "execution_count": null,
      "metadata": {
        "id": "zg82V62qxxCh"
      },
      "outputs": [],
      "source": [
        "# Identify the indices of the rows that contain infinite or large values\n",
        "inf_or_large = np.isinf(X_train) | (np.abs(X_train) > 1e9)\n",
        "\n",
        "# Replace the infinite or large values with the mean of the feature\n",
        "X_train[inf_or_large] = np.nan\n",
        "X_train = np.nan_to_num(X_train, nan=np.nanmean(X_train, axis=0))"
      ]
    },
    {
      "cell_type": "code",
      "execution_count": null,
      "metadata": {
        "colab": {
          "base_uri": "https://localhost:8080/",
          "height": 314
        },
        "id": "0VaJlUb6-J32",
        "outputId": "ef04ccd7-9323-475e-df2c-6e0b35a29d1c"
      },
      "outputs": [
        {
          "output_type": "execute_result",
          "data": {
            "text/plain": [
              "    Destination Port   Flow Duration   Total Fwd Packets  \\\n",
              "0                 88             640                   7   \n",
              "1                 88             900                   9   \n",
              "2                 88            1205                   7   \n",
              "3                 88             511                   7   \n",
              "4                 88             773                   9   \n",
              "\n",
              "    Total Backward Packets  Total Length of Fwd Packets  \\\n",
              "0                        4                          440   \n",
              "1                        4                          600   \n",
              "2                        4                         2776   \n",
              "3                        4                          452   \n",
              "4                        4                          612   \n",
              "\n",
              "    Total Length of Bwd Packets   Fwd Packet Length Max  \\\n",
              "0                           358                     220   \n",
              "1                          2944                     300   \n",
              "2                          2830                    1388   \n",
              "3                           370                     226   \n",
              "4                          2944                     306   \n",
              "\n",
              "    Fwd Packet Length Min   Fwd Packet Length Mean   Fwd Packet Length Std  \\\n",
              "0                       0                62.857143              107.349008   \n",
              "1                       0                66.666667              132.287566   \n",
              "2                       0               396.571429              677.274651   \n",
              "3                       0                64.571429              110.276708   \n",
              "4                       0                68.000000              134.933317   \n",
              "\n",
              "   ...   min_seg_size_forward  Active Mean   Active Std   Active Max  \\\n",
              "0  ...                     20          0.0          0.0            0   \n",
              "1  ...                     20          0.0          0.0            0   \n",
              "2  ...                     20          0.0          0.0            0   \n",
              "3  ...                     20          0.0          0.0            0   \n",
              "4  ...                     20          0.0          0.0            0   \n",
              "\n",
              "    Active Min  Idle Mean   Idle Std   Idle Max   Idle Min   Label  \n",
              "0            0        0.0        0.0          0          0  BENIGN  \n",
              "1            0        0.0        0.0          0          0  BENIGN  \n",
              "2            0        0.0        0.0          0          0  BENIGN  \n",
              "3            0        0.0        0.0          0          0  BENIGN  \n",
              "4            0        0.0        0.0          0          0  BENIGN  \n",
              "\n",
              "[5 rows x 79 columns]"
            ],
            "text/html": [
              "\n",
              "  <div id=\"df-4661143a-4662-491c-ada8-c51fc1835c77\">\n",
              "    <div class=\"colab-df-container\">\n",
              "      <div>\n",
              "<style scoped>\n",
              "    .dataframe tbody tr th:only-of-type {\n",
              "        vertical-align: middle;\n",
              "    }\n",
              "\n",
              "    .dataframe tbody tr th {\n",
              "        vertical-align: top;\n",
              "    }\n",
              "\n",
              "    .dataframe thead th {\n",
              "        text-align: right;\n",
              "    }\n",
              "</style>\n",
              "<table border=\"1\" class=\"dataframe\">\n",
              "  <thead>\n",
              "    <tr style=\"text-align: right;\">\n",
              "      <th></th>\n",
              "      <th>Destination Port</th>\n",
              "      <th>Flow Duration</th>\n",
              "      <th>Total Fwd Packets</th>\n",
              "      <th>Total Backward Packets</th>\n",
              "      <th>Total Length of Fwd Packets</th>\n",
              "      <th>Total Length of Bwd Packets</th>\n",
              "      <th>Fwd Packet Length Max</th>\n",
              "      <th>Fwd Packet Length Min</th>\n",
              "      <th>Fwd Packet Length Mean</th>\n",
              "      <th>Fwd Packet Length Std</th>\n",
              "      <th>...</th>\n",
              "      <th>min_seg_size_forward</th>\n",
              "      <th>Active Mean</th>\n",
              "      <th>Active Std</th>\n",
              "      <th>Active Max</th>\n",
              "      <th>Active Min</th>\n",
              "      <th>Idle Mean</th>\n",
              "      <th>Idle Std</th>\n",
              "      <th>Idle Max</th>\n",
              "      <th>Idle Min</th>\n",
              "      <th>Label</th>\n",
              "    </tr>\n",
              "  </thead>\n",
              "  <tbody>\n",
              "    <tr>\n",
              "      <th>0</th>\n",
              "      <td>88</td>\n",
              "      <td>640</td>\n",
              "      <td>7</td>\n",
              "      <td>4</td>\n",
              "      <td>440</td>\n",
              "      <td>358</td>\n",
              "      <td>220</td>\n",
              "      <td>0</td>\n",
              "      <td>62.857143</td>\n",
              "      <td>107.349008</td>\n",
              "      <td>...</td>\n",
              "      <td>20</td>\n",
              "      <td>0.0</td>\n",
              "      <td>0.0</td>\n",
              "      <td>0</td>\n",
              "      <td>0</td>\n",
              "      <td>0.0</td>\n",
              "      <td>0.0</td>\n",
              "      <td>0</td>\n",
              "      <td>0</td>\n",
              "      <td>BENIGN</td>\n",
              "    </tr>\n",
              "    <tr>\n",
              "      <th>1</th>\n",
              "      <td>88</td>\n",
              "      <td>900</td>\n",
              "      <td>9</td>\n",
              "      <td>4</td>\n",
              "      <td>600</td>\n",
              "      <td>2944</td>\n",
              "      <td>300</td>\n",
              "      <td>0</td>\n",
              "      <td>66.666667</td>\n",
              "      <td>132.287566</td>\n",
              "      <td>...</td>\n",
              "      <td>20</td>\n",
              "      <td>0.0</td>\n",
              "      <td>0.0</td>\n",
              "      <td>0</td>\n",
              "      <td>0</td>\n",
              "      <td>0.0</td>\n",
              "      <td>0.0</td>\n",
              "      <td>0</td>\n",
              "      <td>0</td>\n",
              "      <td>BENIGN</td>\n",
              "    </tr>\n",
              "    <tr>\n",
              "      <th>2</th>\n",
              "      <td>88</td>\n",
              "      <td>1205</td>\n",
              "      <td>7</td>\n",
              "      <td>4</td>\n",
              "      <td>2776</td>\n",
              "      <td>2830</td>\n",
              "      <td>1388</td>\n",
              "      <td>0</td>\n",
              "      <td>396.571429</td>\n",
              "      <td>677.274651</td>\n",
              "      <td>...</td>\n",
              "      <td>20</td>\n",
              "      <td>0.0</td>\n",
              "      <td>0.0</td>\n",
              "      <td>0</td>\n",
              "      <td>0</td>\n",
              "      <td>0.0</td>\n",
              "      <td>0.0</td>\n",
              "      <td>0</td>\n",
              "      <td>0</td>\n",
              "      <td>BENIGN</td>\n",
              "    </tr>\n",
              "    <tr>\n",
              "      <th>3</th>\n",
              "      <td>88</td>\n",
              "      <td>511</td>\n",
              "      <td>7</td>\n",
              "      <td>4</td>\n",
              "      <td>452</td>\n",
              "      <td>370</td>\n",
              "      <td>226</td>\n",
              "      <td>0</td>\n",
              "      <td>64.571429</td>\n",
              "      <td>110.276708</td>\n",
              "      <td>...</td>\n",
              "      <td>20</td>\n",
              "      <td>0.0</td>\n",
              "      <td>0.0</td>\n",
              "      <td>0</td>\n",
              "      <td>0</td>\n",
              "      <td>0.0</td>\n",
              "      <td>0.0</td>\n",
              "      <td>0</td>\n",
              "      <td>0</td>\n",
              "      <td>BENIGN</td>\n",
              "    </tr>\n",
              "    <tr>\n",
              "      <th>4</th>\n",
              "      <td>88</td>\n",
              "      <td>773</td>\n",
              "      <td>9</td>\n",
              "      <td>4</td>\n",
              "      <td>612</td>\n",
              "      <td>2944</td>\n",
              "      <td>306</td>\n",
              "      <td>0</td>\n",
              "      <td>68.000000</td>\n",
              "      <td>134.933317</td>\n",
              "      <td>...</td>\n",
              "      <td>20</td>\n",
              "      <td>0.0</td>\n",
              "      <td>0.0</td>\n",
              "      <td>0</td>\n",
              "      <td>0</td>\n",
              "      <td>0.0</td>\n",
              "      <td>0.0</td>\n",
              "      <td>0</td>\n",
              "      <td>0</td>\n",
              "      <td>BENIGN</td>\n",
              "    </tr>\n",
              "  </tbody>\n",
              "</table>\n",
              "<p>5 rows × 79 columns</p>\n",
              "</div>\n",
              "      <button class=\"colab-df-convert\" onclick=\"convertToInteractive('df-4661143a-4662-491c-ada8-c51fc1835c77')\"\n",
              "              title=\"Convert this dataframe to an interactive table.\"\n",
              "              style=\"display:none;\">\n",
              "        \n",
              "  <svg xmlns=\"http://www.w3.org/2000/svg\" height=\"24px\"viewBox=\"0 0 24 24\"\n",
              "       width=\"24px\">\n",
              "    <path d=\"M0 0h24v24H0V0z\" fill=\"none\"/>\n",
              "    <path d=\"M18.56 5.44l.94 2.06.94-2.06 2.06-.94-2.06-.94-.94-2.06-.94 2.06-2.06.94zm-11 1L8.5 8.5l.94-2.06 2.06-.94-2.06-.94L8.5 2.5l-.94 2.06-2.06.94zm10 10l.94 2.06.94-2.06 2.06-.94-2.06-.94-.94-2.06-.94 2.06-2.06.94z\"/><path d=\"M17.41 7.96l-1.37-1.37c-.4-.4-.92-.59-1.43-.59-.52 0-1.04.2-1.43.59L10.3 9.45l-7.72 7.72c-.78.78-.78 2.05 0 2.83L4 21.41c.39.39.9.59 1.41.59.51 0 1.02-.2 1.41-.59l7.78-7.78 2.81-2.81c.8-.78.8-2.07 0-2.86zM5.41 20L4 18.59l7.72-7.72 1.47 1.35L5.41 20z\"/>\n",
              "  </svg>\n",
              "      </button>\n",
              "      \n",
              "  <style>\n",
              "    .colab-df-container {\n",
              "      display:flex;\n",
              "      flex-wrap:wrap;\n",
              "      gap: 12px;\n",
              "    }\n",
              "\n",
              "    .colab-df-convert {\n",
              "      background-color: #E8F0FE;\n",
              "      border: none;\n",
              "      border-radius: 50%;\n",
              "      cursor: pointer;\n",
              "      display: none;\n",
              "      fill: #1967D2;\n",
              "      height: 32px;\n",
              "      padding: 0 0 0 0;\n",
              "      width: 32px;\n",
              "    }\n",
              "\n",
              "    .colab-df-convert:hover {\n",
              "      background-color: #E2EBFA;\n",
              "      box-shadow: 0px 1px 2px rgba(60, 64, 67, 0.3), 0px 1px 3px 1px rgba(60, 64, 67, 0.15);\n",
              "      fill: #174EA6;\n",
              "    }\n",
              "\n",
              "    [theme=dark] .colab-df-convert {\n",
              "      background-color: #3B4455;\n",
              "      fill: #D2E3FC;\n",
              "    }\n",
              "\n",
              "    [theme=dark] .colab-df-convert:hover {\n",
              "      background-color: #434B5C;\n",
              "      box-shadow: 0px 1px 3px 1px rgba(0, 0, 0, 0.15);\n",
              "      filter: drop-shadow(0px 1px 2px rgba(0, 0, 0, 0.3));\n",
              "      fill: #FFFFFF;\n",
              "    }\n",
              "  </style>\n",
              "\n",
              "      <script>\n",
              "        const buttonEl =\n",
              "          document.querySelector('#df-4661143a-4662-491c-ada8-c51fc1835c77 button.colab-df-convert');\n",
              "        buttonEl.style.display =\n",
              "          google.colab.kernel.accessAllowed ? 'block' : 'none';\n",
              "\n",
              "        async function convertToInteractive(key) {\n",
              "          const element = document.querySelector('#df-4661143a-4662-491c-ada8-c51fc1835c77');\n",
              "          const dataTable =\n",
              "            await google.colab.kernel.invokeFunction('convertToInteractive',\n",
              "                                                     [key], {});\n",
              "          if (!dataTable) return;\n",
              "\n",
              "          const docLinkHtml = 'Like what you see? Visit the ' +\n",
              "            '<a target=\"_blank\" href=https://colab.research.google.com/notebooks/data_table.ipynb>data table notebook</a>'\n",
              "            + ' to learn more about interactive tables.';\n",
              "          element.innerHTML = '';\n",
              "          dataTable['output_type'] = 'display_data';\n",
              "          await google.colab.output.renderOutput(dataTable, element);\n",
              "          const docLink = document.createElement('div');\n",
              "          docLink.innerHTML = docLinkHtml;\n",
              "          element.appendChild(docLink);\n",
              "        }\n",
              "      </script>\n",
              "    </div>\n",
              "  </div>\n",
              "  "
            ]
          },
          "metadata": {},
          "execution_count": 29
        }
      ],
      "source": [
        "df.head()"
      ]
    },
    {
      "cell_type": "code",
      "execution_count": null,
      "metadata": {
        "colab": {
          "base_uri": "https://localhost:8080/"
        },
        "id": "kIiKTG1o-J32",
        "outputId": "545c8c40-9741-4339-8abc-943f22c60b90"
      },
      "outputs": [
        {
          "output_type": "stream",
          "name": "stdout",
          "text": [
            "Before replacing: min =  Destination Port              0.0\n",
            " Flow Duration                -4.0\n",
            " Total Fwd Packets             1.0\n",
            " Total Backward Packets        0.0\n",
            "Total Length of Fwd Packets    0.0\n",
            "                              ... \n",
            " Active Min                    0.0\n",
            "Idle Mean                      0.0\n",
            " Idle Std                      0.0\n",
            " Idle Max                      0.0\n",
            " Idle Min                      0.0\n",
            "Length: 78, dtype: float64, max =  Destination Port                  65389.0\n",
            " Flow Duration                 119999977.0\n",
            " Total Fwd Packets                177702.0\n",
            " Total Backward Packets           228838.0\n",
            "Total Length of Fwd Packets       877610.0\n",
            "                                  ...     \n",
            " Active Min                     72400000.0\n",
            "Idle Mean                      120000000.0\n",
            " Idle Std                       75900000.0\n",
            " Idle Max                      120000000.0\n",
            " Idle Min                      120000000.0\n",
            "Length: 78, dtype: float64\n",
            "After replacing: min = -536870661.0, max = 731000000.0\n"
          ]
        }
      ],
      "source": [
        "# Print the minimum and maximum values before replacing the infinite or large values\n",
        "print(f\"Before replacing: min = {np.min(X_test)}, max = {np.max(X_test)}\")\n",
        "\n",
        "# Replace the infinite or large values\n",
        "inf_or_large = np.isinf(X_test) | (np.abs(X_test) > 1e9)\n",
        "X_test[inf_or_large] = np.nan\n",
        "X_test = np.nan_to_num(X_test, nan=np.nanmean(X_test, axis=0))\n",
        "\n",
        "# Print the minimum and maximum values after replacing the infinite or large values\n",
        "print(f\"After replacing: min = {np.min(X_test)}, max = {np.max(X_test)}\")"
      ]
    },
    {
      "cell_type": "code",
      "execution_count": null,
      "metadata": {
        "id": "0gRlzhXilwX8"
      },
      "outputs": [],
      "source": [
        "# Normalize the data\n",
        "scaler = StandardScaler()\n",
        "X_train = scaler.fit_transform(X_train)\n",
        "X_test = scaler.transform(X_test)"
      ]
    },
    {
      "cell_type": "code",
      "execution_count": null,
      "metadata": {
        "id": "_kKwoYcI-J33"
      },
      "outputs": [],
      "source": [
        "from sklearn.svm import SVC"
      ]
    },
    {
      "cell_type": "code",
      "execution_count": null,
      "metadata": {
        "id": "3jSYAZHBlxU6"
      },
      "outputs": [],
      "source": [
        "# Build and evaluate the SVM model\n",
        "svm_model = SVC(kernel='linear')\n"
      ]
    },
    {
      "cell_type": "code",
      "execution_count": null,
      "metadata": {
        "id": "tkyVtgzZEJnV"
      },
      "outputs": [],
      "source": [
        "from time import time"
      ]
    },
    {
      "cell_type": "code",
      "execution_count": null,
      "metadata": {
        "colab": {
          "base_uri": "https://localhost:8080/"
        },
        "id": "F_9BUMih-J33",
        "outputId": "b421bb82-303d-453b-d101-c187a8ed8ca5"
      },
      "outputs": [
        {
          "output_type": "stream",
          "name": "stdout",
          "text": [
            "Training time: 459.2594599723816\n",
            "Testing time: 27.74958086013794\n"
          ]
        }
      ],
      "source": [
        "t0 = time()\n",
        "svm_model.fit(X_train, y_train)\n",
        "t1 = time()\n",
        "training_time = t1 - t0\n",
        "t0 = time()\n",
        "svm_predictions = svm_model.predict(X_test)\n",
        "t1 = time()\n",
        "testing_time = t1 - t0\n",
        "svm_accuracy = accuracy_score(y_test, svm_predictions)\n",
        "svm_confusion_matrix = confusion_matrix(y_test, svm_predictions)\n",
        "print(\"Training time:\", training_time)\n",
        "print(\"Testing time:\", testing_time)"
      ]
    },
    {
      "cell_type": "code",
      "source": [
        "# Calculate the training accuracy\n",
        "training_accuracy = svm_model.score(X_train, y_train)\n",
        "\n",
        "# Calculate the testing accuracy\n",
        "testing_accuracy = svm_model.score(X_test, y_test)\n",
        "\n",
        "print(\"Training accuracy:\", training_accuracy)\n",
        "print(\"Testing accuracy:\", testing_accuracy)\n"
      ],
      "metadata": {
        "colab": {
          "base_uri": "https://localhost:8080/"
        },
        "id": "YA9OQ1Vrd-Lw",
        "outputId": "fde1c21c-0cb7-4c20-d8d2-8e2254005872"
      },
      "execution_count": null,
      "outputs": [
        {
          "output_type": "stream",
          "name": "stdout",
          "text": [
            "Training accuracy: 0.9928849077029217\n",
            "Testing accuracy: 0.9923380673532117\n"
          ]
        }
      ]
    },
    {
      "cell_type": "code",
      "execution_count": null,
      "metadata": {
        "colab": {
          "base_uri": "https://localhost:8080/"
        },
        "id": "vMRv4-9JmKyP",
        "outputId": "1c717a1c-5508-4349-e744-1868b7f7a7d0"
      },
      "outputs": [
        {
          "output_type": "stream",
          "name": "stdout",
          "text": [
            "SVM Accuracy: 0.992\n",
            "SVM Confusion Matrix:\n",
            "[[86290    49     0]\n",
            " [    5  1608     0]\n",
            " [  625     4   561]]\n"
          ]
        }
      ],
      "source": [
        "print(f'SVM Accuracy: {svm_accuracy:.3f}')\n",
        "print(f'SVM Confusion Matrix:')\n",
        "print(svm_confusion_matrix)"
      ]
    },
    {
      "cell_type": "code",
      "execution_count": null,
      "metadata": {
        "colab": {
          "base_uri": "https://localhost:8080/"
        },
        "id": "9eE3oj1t-J33",
        "outputId": "49afb806-91d4-48ad-9147-16ea6d8297b7"
      },
      "outputs": [
        {
          "output_type": "stream",
          "name": "stdout",
          "text": [
            "TN:  86290\n",
            "FP:  49\n",
            "FN:  5\n",
            "TP:  1608\n",
            "0.9969001859888407 0.9704284852142426\n"
          ]
        }
      ],
      "source": [
        "\n",
        "\n",
        "conf_mx = confusion_matrix(y_test, svm_predictions)\n",
        "\n",
        "TN = conf_mx[0,0]\n",
        "FP = conf_mx[0,1]\n",
        "FN = conf_mx[1,0]\n",
        "TP = conf_mx[1,1]\n",
        "\n",
        "print ('TN: ', TN)\n",
        "print ('FP: ', FP)\n",
        "print ('FN: ', FN)\n",
        "print ('TP: ', TP)\n",
        "\n",
        "recall_svm = TP/(TP+FN)\n",
        "precision_svm = TP/(TP+FP)\n",
        "\n",
        "print (recall_svm, precision_svm)"
      ]
    },
    {
      "cell_type": "code",
      "execution_count": null,
      "metadata": {
        "colab": {
          "base_uri": "https://localhost:8080/"
        },
        "id": "3f4uiMos-J33",
        "outputId": "596f043f-45b8-4a5a-bb13-b5b4861ad5a2"
      },
      "outputs": [
        {
          "output_type": "stream",
          "name": "stdout",
          "text": [
            "0.9834862385321101\n"
          ]
        }
      ],
      "source": [
        "F1_score_svm = 2 * (precision_svm * recall_svm) / (precision_svm + recall_svm)\n",
        "print(F1_score_svm)"
      ]
    },
    {
      "cell_type": "code",
      "execution_count": null,
      "metadata": {
        "id": "AgHTpAH5mMGK",
        "colab": {
          "base_uri": "https://localhost:8080/"
        },
        "outputId": "7d2ac426-904c-4c3d-e1b3-922fc3217e97"
      },
      "outputs": [
        {
          "output_type": "stream",
          "name": "stdout",
          "text": [
            "Training time: 49.37602925300598\n",
            "Testing time: 0.7877974510192871\n"
          ]
        }
      ],
      "source": [
        "# Build and evaluate the RF model\n",
        "rf_model = RandomForestClassifier(n_estimators=100)\n",
        "t0 = time()\n",
        "rf_model.fit(X_train, y_train)\n",
        "t1 = time()\n",
        "training_time = t1 - t0\n",
        "t0 = time()\n",
        "rf_predictions = rf_model.predict(X_test)\n",
        "t1 = time()\n",
        "testing_time = t1 - t0\n",
        "rf_accuracy = accuracy_score(y_test, rf_predictions)\n",
        "rf_confusion_matrix = confusion_matrix(y_test, rf_predictions)\n",
        "print(\"Training time:\", training_time)\n",
        "print(\"Testing time:\", testing_time)"
      ]
    },
    {
      "cell_type": "code",
      "execution_count": null,
      "metadata": {
        "id": "VFid4uCqmPFH",
        "outputId": "1cc2548d-3fa9-47d6-fe11-545aea457288",
        "colab": {
          "base_uri": "https://localhost:8080/"
        }
      },
      "outputs": [
        {
          "output_type": "stream",
          "name": "stdout",
          "text": [
            "RF Accuracy: 1.000\n",
            "RF Confusion Matrix:\n",
            "[[86339     0     0]\n",
            " [    1  1612     0]\n",
            " [    2     0  1188]]\n"
          ]
        }
      ],
      "source": [
        "print(f'RF Accuracy: {rf_accuracy:.3f}')\n",
        "print(f'RF Confusion Matrix:')\n",
        "print(rf_confusion_matrix)"
      ]
    },
    {
      "cell_type": "code",
      "source": [
        "# Calculate the training accuracy\n",
        "training_accuracy = rf_model.score(X_train, y_train)\n",
        "\n",
        "# Calculate the testing accuracy\n",
        "testing_accuracy = rf_model.score(X_test, y_test)\n",
        "\n",
        "print(\"Training accuracy:\", training_accuracy)\n",
        "print(\"Testing accuracy:\", testing_accuracy)\n"
      ],
      "metadata": {
        "colab": {
          "base_uri": "https://localhost:8080/"
        },
        "id": "_bFAsnhSbsQJ",
        "outputId": "c663342c-65e8-4010-a034-53f02c0d210d"
      },
      "execution_count": null,
      "outputs": [
        {
          "output_type": "stream",
          "name": "stdout",
          "text": [
            "Training accuracy: 1.0\n",
            "Testing accuracy: 0.9999663458302483\n"
          ]
        }
      ]
    },
    {
      "cell_type": "code",
      "execution_count": null,
      "metadata": {
        "id": "MMdsQmjj-J34",
        "outputId": "2d6a996c-aa56-480a-a1a3-e9f06ea289ca",
        "colab": {
          "base_uri": "https://localhost:8080/"
        }
      },
      "outputs": [
        {
          "output_type": "stream",
          "name": "stdout",
          "text": [
            "TN:  86339\n",
            "FP:  0\n",
            "FN:  1\n",
            "TP:  1612\n",
            "0.9993800371977681 1.0\n"
          ]
        }
      ],
      "source": [
        "\n",
        "\n",
        "conf_mx = confusion_matrix(y_test, rf_predictions)\n",
        "\n",
        "TN = conf_mx[0,0]\n",
        "FP = conf_mx[0,1]\n",
        "FN = conf_mx[1,0]\n",
        "TP = conf_mx[1,1]\n",
        "\n",
        "print ('TN: ', TN)\n",
        "print ('FP: ', FP)\n",
        "print ('FN: ', FN)\n",
        "print ('TP: ', TP)\n",
        "\n",
        "recall_rf = TP/(TP+FN)\n",
        "precision_rf = TP/(TP+FP)\n",
        "\n",
        "print (recall_rf, precision_rf)"
      ]
    },
    {
      "cell_type": "code",
      "execution_count": null,
      "metadata": {
        "id": "8hum82Sz-J34",
        "outputId": "d587ab22-a130-4f38-adfc-189999b58178",
        "colab": {
          "base_uri": "https://localhost:8080/"
        }
      },
      "outputs": [
        {
          "output_type": "stream",
          "name": "stdout",
          "text": [
            "0.9996899224806202\n"
          ]
        }
      ],
      "source": [
        "F1_score_rf = 2 * (precision_rf * recall_rf) / (precision_rf + recall_rf)\n",
        "print(F1_score_rf)"
      ]
    },
    {
      "cell_type": "code",
      "execution_count": null,
      "metadata": {
        "id": "D3Vpdk-q-J34"
      },
      "outputs": [],
      "source": []
    }
  ],
  "metadata": {
    "accelerator": "GPU",
    "colab": {
      "provenance": [],
      "include_colab_link": true
    },
    "gpuClass": "standard",
    "kernelspec": {
      "display_name": "Python 3 (ipykernel)",
      "language": "python",
      "name": "python3"
    },
    "language_info": {
      "codemirror_mode": {
        "name": "ipython",
        "version": 3
      },
      "file_extension": ".py",
      "mimetype": "text/x-python",
      "name": "python",
      "nbconvert_exporter": "python",
      "pygments_lexer": "ipython3",
      "version": "3.9.13"
    }
  },
  "nbformat": 4,
  "nbformat_minor": 0
}